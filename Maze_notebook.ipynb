{
 "cells": [
  {
   "cell_type": "code",
   "execution_count": 1,
   "metadata": {},
   "outputs": [],
   "source": [
    "import numpy as np\n",
    "from ForMaze import get_states_from_Maze,first_visit_mc_prediction,on_policy_first_visit_mc_control, mc_control_es, td_zero, sarsa\n",
    "from Maze_generating_interface import App\n"
   ]
  },
  {
   "cell_type": "code",
   "execution_count": 2,
   "metadata": {},
   "outputs": [
    {
     "ename": "AttributeError",
     "evalue": "'_tkinter.tkapp' object has no attribute 'A'",
     "output_type": "error",
     "traceback": [
      "\u001b[1;31m---------------------------------------------------------------------------\u001b[0m",
      "\u001b[1;31mAttributeError\u001b[0m                            Traceback (most recent call last)",
      "Cell \u001b[1;32mIn [2], line 3\u001b[0m\n\u001b[0;32m      1\u001b[0m app \u001b[38;5;241m=\u001b[39m App()\n\u001b[0;32m      2\u001b[0m app\u001b[38;5;241m.\u001b[39mmainloop()\n\u001b[1;32m----> 3\u001b[0m Maze \u001b[38;5;241m=\u001b[39m \u001b[43mapp\u001b[49m\u001b[38;5;241;43m.\u001b[39;49m\u001b[43mA\u001b[49m\n",
      "File \u001b[1;32mc:\\Users\\raids\\AppData\\Local\\Programs\\Python\\Python38\\lib\\tkinter\\__init__.py:2345\u001b[0m, in \u001b[0;36mTk.__getattr__\u001b[1;34m(self, attr)\u001b[0m\n\u001b[0;32m   2343\u001b[0m \u001b[38;5;28;01mdef\u001b[39;00m \u001b[38;5;21m__getattr__\u001b[39m(\u001b[38;5;28mself\u001b[39m, attr):\n\u001b[0;32m   2344\u001b[0m     \u001b[38;5;124m\"\u001b[39m\u001b[38;5;124mDelegate attribute access to the interpreter object\u001b[39m\u001b[38;5;124m\"\u001b[39m\n\u001b[1;32m-> 2345\u001b[0m     \u001b[38;5;28;01mreturn\u001b[39;00m \u001b[38;5;28;43mgetattr\u001b[39;49m\u001b[43m(\u001b[49m\u001b[38;5;28;43mself\u001b[39;49m\u001b[38;5;241;43m.\u001b[39;49m\u001b[43mtk\u001b[49m\u001b[43m,\u001b[49m\u001b[43m \u001b[49m\u001b[43mattr\u001b[49m\u001b[43m)\u001b[49m\n",
      "\u001b[1;31mAttributeError\u001b[0m: '_tkinter.tkapp' object has no attribute 'A'"
     ]
    }
   ],
   "source": [
    "app = App()\n",
    "app.mainloop()\n",
    "Maze = app.A\n",
    "\n"
   ]
  },
  {
   "cell_type": "code",
   "execution_count": null,
   "metadata": {},
   "outputs": [],
   "source": [
    "states, exit_state , init_states = get_states_from_Maze(Maze)"
   ]
  },
  {
   "cell_type": "code",
   "execution_count": null,
   "metadata": {},
   "outputs": [],
   "source": [
    "print(\"This is the init state:\\n\",init_states)\n",
    "print(\"This is the EXIST state:\\n\",exit_state)\n",
    "print(\"This is the states:\\n\",states)"
   ]
  },
  {
   "cell_type": "code",
   "execution_count": null,
   "metadata": {},
   "outputs": [],
   "source": [
    "C"
   ]
  }
 ],
 "metadata": {
  "kernelspec": {
   "display_name": "Python 3",
   "language": "python",
   "name": "python3"
  },
  "language_info": {
   "codemirror_mode": {
    "name": "ipython",
    "version": 3
   },
   "file_extension": ".py",
   "mimetype": "text/x-python",
   "name": "python",
   "nbconvert_exporter": "python",
   "pygments_lexer": "ipython3",
   "version": "3.8.1"
  }
 },
 "nbformat": 4,
 "nbformat_minor": 2
}
